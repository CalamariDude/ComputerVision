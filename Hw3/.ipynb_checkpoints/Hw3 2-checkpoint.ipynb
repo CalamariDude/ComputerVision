{
 "cells": [
  {
   "cell_type": "code",
   "execution_count": 4,
   "metadata": {
    "ExecuteTime": {
     "end_time": "2019-04-20T23:20:07.735342Z",
     "start_time": "2019-04-20T23:20:07.624191Z"
    }
   },
   "outputs": [],
   "source": [
    "import matplotlib\n",
    "import matplotlib.pyplot as plt\n",
    "import pandas as pd\n",
    "import numpy as np\n",
    "import scipy as sp\n",
    "import cv2\n",
    "import os\n",
    "import sys\n",
    "#suppress warnings for cleanliness\n",
    "import warnings\n",
    "warnings.filterwarnings('ignore')"
   ]
  },
  {
   "cell_type": "code",
   "execution_count": 5,
   "metadata": {
    "ExecuteTime": {
     "end_time": "2019-04-20T23:20:07.839972Z",
     "start_time": "2019-04-20T23:20:07.762105Z"
    }
   },
   "outputs": [
    {
     "name": "stdout",
     "output_type": "stream",
     "text": [
      "Sample size =  400\n"
     ]
    }
   ],
   "source": [
    "\n",
    "dir='att_faces'\n",
    "Skip = ''\n",
    "path = os.getcwd()+'/'+dir+'/'\n",
    "alpha = []\n",
    "for i in range (1, 41):\n",
    "    s = \"s\" + str(i)\n",
    "    alpha.append(s)\n",
    "\n",
    "targets = []\n",
    "pictures = []\n",
    "for p,letter in enumerate(alpha):\n",
    "    dirs = os.listdir( path+letter+'/' )\n",
    "    for item in dirs:\n",
    "        if item == '.DS_STORE':\n",
    "            continue\n",
    "        if item[0:2] == Skip:\n",
    "            continue\n",
    "        local_path =path+letter+'/'+item\n",
    "        img = cv2.imread(local_path,0)\n",
    "        pictures.append(img)\n",
    "        targets.append(letter)\n",
    "print(\"Sample size = \", len(pictures))\n",
    "pictures = np.asarray(pictures)\n"
   ]
  },
  {
   "cell_type": "code",
   "execution_count": 21,
   "metadata": {
    "ExecuteTime": {
     "end_time": "2019-04-21T01:10:16.942075Z",
     "start_time": "2019-04-21T01:10:02.939698Z"
    }
   },
   "outputs": [
    {
     "name": "stdout",
     "output_type": "stream",
     "text": [
      "(400, 112, 92)\n",
      "[1.00592412e+10 7.08602042e+08 3.09303182e+08 2.80379020e+08\n",
      " 1.99316591e+08 1.75122075e+08 1.39042515e+08 1.11570537e+08\n",
      " 1.04778951e+08 9.11310324e+07 7.58409400e+07 6.35401620e+07\n",
      " 5.67420810e+07 4.97071596e+07 4.66783795e+07 4.51549809e+07\n",
      " 4.35039523e+07 4.03113766e+07 3.82753652e+07 3.47055697e+07\n",
      " 3.31109098e+07 3.10242995e+07 3.03739344e+07 2.86216683e+07\n",
      " 2.73723123e+07 2.59424775e+07 2.55302262e+07 2.33136711e+07\n",
      " 2.38047659e+07 2.25849434e+07 2.19130411e+07 2.13842685e+07\n",
      " 2.05497603e+07 1.97458356e+07 1.88412049e+07 1.79655435e+07\n",
      " 1.72980599e+07 1.69011542e+07 1.64194314e+07 1.58927814e+07\n",
      " 1.55098073e+07 1.50108718e+07 1.43960063e+07 1.42992959e+07\n",
      " 1.38644500e+07 1.32596164e+07 1.29861964e+07 1.25836547e+07\n",
      " 1.23919027e+07 1.22478294e+07 1.18964500e+07 1.17051088e+07\n",
      " 1.13307936e+07 1.12321966e+07 1.09962640e+07 1.03805710e+07\n",
      " 1.02733304e+07 1.00438723e+07 9.76972131e+06 9.73205222e+06\n",
      " 9.47870286e+06 9.29324463e+06 9.03930441e+06 8.82220637e+06\n",
      " 8.58267209e+06 8.48293570e+06 8.24314464e+06 8.08846204e+06\n",
      " 7.86934040e+06 7.81075198e+06 7.70735470e+06 7.60916452e+06\n",
      " 7.56467497e+06 7.42565876e+06 7.32586856e+06 7.25782789e+06\n",
      " 7.10921971e+06 7.05218100e+06 6.94953770e+06 6.84200483e+06\n",
      " 6.80978942e+06 6.66613688e+06 6.22203966e+06 6.38194216e+06\n",
      " 6.52931379e+06 6.48344287e+06 6.18149788e+06 6.04788901e+06\n",
      " 6.00940532e+06 5.94131001e+06 5.84317648e+06 5.75642273e+06\n",
      " 5.76380415e+06 5.58799730e+06 5.52528165e+06 5.51124563e+06\n",
      " 5.35712081e+06 5.33111901e+06 5.30294676e+06 4.88639068e+06\n",
      " 5.19873386e+06 5.16597731e+06 4.98489532e+06 5.00673543e+06\n",
      " 5.07221132e+06 5.07846289e+06 4.82219491e+06 4.72390049e+06\n",
      " 4.69009547e+06 4.63506090e+06 4.61085010e+06 4.49792761e+06\n",
      " 4.48122029e+06 4.38084162e+06 4.35314432e+06 4.06394945e+06\n",
      " 4.09679731e+06 4.16934735e+06 4.25827131e+06 4.21091014e+06\n",
      " 4.24247930e+06 4.23522613e+06 4.01895637e+06 3.99759648e+06\n",
      " 3.96874122e+06 3.93796329e+06 3.88316243e+06 3.85458582e+06\n",
      " 3.52410173e+06 3.53895878e+06 3.59259304e+06 3.62806721e+06\n",
      " 3.81963913e+06 3.79039307e+06 3.69824111e+06 3.70793180e+06\n",
      " 3.75045463e+06 4.80698516e+05 5.18759274e+05 5.73254195e+05\n",
      " 3.50352507e+06 3.47516457e+06 3.44884102e+06 3.40676242e+06\n",
      " 3.38734997e+06 3.36035316e+06 3.34570241e+06 3.23652156e+06\n",
      " 3.29477444e+06 3.26971969e+06 6.80601380e+05 7.74466481e+05\n",
      " 7.78955114e+05 8.11268983e+05 3.20753866e+06 3.19512781e+06\n",
      " 3.18414320e+06 3.14748603e+06 3.04640734e+06 3.10120270e+06\n",
      " 3.07772028e+06 3.08996837e+06 8.28501108e+05 8.46900080e+05\n",
      " 8.56113771e+05 8.79721716e+05 9.00139755e+05 9.07881206e+05\n",
      " 9.12417367e+05 3.00793440e+06 2.97313200e+06 2.94477625e+06\n",
      " 2.93270341e+06 2.90339454e+06 2.87378954e+06 9.29316380e+05\n",
      " 9.44351345e+05 9.57164431e+05 9.81151535e+05 9.65109275e+05\n",
      " 2.86199838e+06 2.84987341e+06 2.82427908e+06 2.80413519e+06\n",
      " 2.76209243e+06 2.72853300e+06 2.70851671e+06 2.70732213e+06\n",
      " 2.66541034e+06 2.65248598e+06 2.63411072e+06 2.62518528e+06\n",
      " 2.57727097e+06 2.42555877e+06 2.45255442e+06 2.53287674e+06\n",
      " 2.52081686e+06 2.50656843e+06 2.48841243e+06 2.48289871e+06\n",
      " 1.00962160e+06 1.01753609e+06 1.03174209e+06 1.04694353e+06\n",
      " 1.05053824e+06 1.05882655e+06 1.11888667e+06 1.07848981e+06\n",
      " 1.08307238e+06 1.08865316e+06 1.10731315e+06 1.10336496e+06\n",
      " 2.40594323e+06 1.13275685e+06 1.14610400e+06 2.37505408e+06\n",
      " 2.35998248e+06 2.39360755e+06 1.17772233e+06 1.16450319e+06\n",
      " 1.15386746e+06 2.29407721e+06 2.32319438e+06 2.33441455e+06\n",
      " 1.18426040e+06 1.19614624e+06 1.20576299e+06 2.26650736e+06\n",
      " 2.23990645e+06 2.22756122e+06 2.21595390e+06 1.21793062e+06\n",
      " 1.24274761e+06 1.23432112e+06 1.25798033e+06 1.28140394e+06\n",
      " 1.28341603e+06 2.18573907e+06 2.16858836e+06 2.15507497e+06\n",
      " 2.12371474e+06 2.10764127e+06 2.09581957e+06 1.30055524e+06\n",
      " 2.07116664e+06 2.06426486e+06 2.05100094e+06 2.01484385e+06\n",
      " 2.04023210e+06 2.00539986e+06 1.97119556e+06 1.90010905e+06\n",
      " 1.33103189e+06 1.34179783e+06 1.35594209e+06 1.31359603e+06\n",
      " 1.31480892e+06 1.39099249e+06 1.38298889e+06 1.68788417e+06\n",
      " 1.65987790e+06 1.64784567e+06 1.63039129e+06 1.59778254e+06\n",
      " 1.58031775e+06 1.44913550e+06 1.46599837e+06 1.48317905e+06\n",
      " 1.95070597e+06 1.91299945e+06 1.93221139e+06 1.87330688e+06\n",
      " 1.85583577e+06 1.77799937e+06 1.71810278e+06 1.43189727e+06\n",
      " 1.37461033e+06 1.44357444e+06 1.41012670e+06 1.51338473e+06\n",
      " 1.68008651e+06 1.60343563e+06 1.56429057e+06 1.52130154e+06\n",
      " 2.00132833e+06 1.36185230e+06 1.82220462e+06 1.83737447e+06\n",
      " 1.87818896e+06 1.73554042e+06 1.75939570e+06 1.74966431e+06\n",
      " 1.77010829e+06 1.44067522e+06 1.54971707e+06 1.53509543e+06\n",
      " 1.70826438e+06 1.95667350e+06 1.81971267e+06 1.52591624e+06] [[-0.06060447 -0.02783523 -0.00583945 ...  0.00096997 -0.00575422\n",
      "  -0.00142305]\n",
      " [-0.05295606 -0.02244945  0.11411461 ...  0.11816724 -0.04505933\n",
      "  -0.01294011]\n",
      " [-0.05850989 -0.05611799 -0.00807628 ... -0.1361311  -0.09788562\n",
      "  -0.00727856]\n",
      " ...\n",
      " [-0.05579514 -0.09149875 -0.01057339 ...  0.01688201  0.05514009\n",
      "  -0.01466831]\n",
      " [-0.05248004 -0.04343597  0.00355917 ...  0.00950549  0.01904907\n",
      "  -0.00602219]\n",
      " [-0.06298718 -0.08152625 -0.00721302 ...  0.02616307  0.03564895\n",
      "  -0.01080187]]\n"
     ]
    },
    {
     "data": {
      "text/plain": [
       "[<matplotlib.lines.Line2D at 0x125034c88>]"
      ]
     },
     "execution_count": 21,
     "metadata": {},
     "output_type": "execute_result"
    },
    {
     "data": {
      "image/png": "[encoded data removed]",
      "text/plain": [
       "<Figure size 432x288 with 1 Axes>"
      ]
     },
     "metadata": {
      "needs_background": "light"
     },
     "output_type": "display_data"
    }
   ],
   "source": [
    "from sklearn.model_selection import train_test_split\n",
    "#stack\n",
    "print(pictures.shape)\n",
    "A = np.zeros((400, 112*92))\n",
    "counter = 0\n",
    "for img in pictures:\n",
    "    flatt = img.ravel()\n",
    "    for i in range(len(flatt)):\n",
    "        A[counter][i] = flatt[i]\n",
    "    counter = counter +1\n",
    "X_train, X_test, y_train, y_test = train_test_split(A, targets, test_size=0.25, random_state=42)\n",
    "#subtract mean from each row\n",
    "u = []\n",
    "A = A.T\n",
    "for i in range(X_train.shape[1]):\n",
    "    colmean = np.mean(X_train,axis=1)\n",
    "    X_train[:,i] = X_train[:,i]  - colmean\n",
    "    u.append(colmean)\n",
    "#eignvalues\n",
    "w, v= np.linalg.eig(np.matmul(X_train, X_train.T))\n",
    "print(w, v)\n",
    "summed = []\n",
    "cum = 0\n",
    "for i in w:\n",
    "    cum = cum + i\n",
    "    summed.append(cum)\n",
    "plt.plot(w, summed)\n",
    "#plot the eigvenvalues vs cum sum for highest variance\n",
    "#plt.plot(w, sum(w[,;5]))\n",
    "\n",
    "#values to threshold\n",
    "    "
   ]
  },
  {
   "cell_type": "code",
   "execution_count": 25,
   "metadata": {
    "ExecuteTime": {
     "end_time": "2019-04-21T01:12:21.478109Z",
     "start_time": "2019-04-21T01:12:21.474706Z"
    }
   },
   "outputs": [
    {
     "data": {
      "text/plain": [
       "30.0"
      ]
     },
     "execution_count": 25,
     "metadata": {},
     "output_type": "execute_result"
    }
   ],
   "source": [
    "#we will take the top 10% of eigenvalues it looks like\n",
    "len(w) * .1"
   ]
  },
  {
   "cell_type": "code",
   "execution_count": 31,
   "metadata": {
    "ExecuteTime": {
     "end_time": "2019-04-21T01:22:49.011173Z",
     "start_time": "2019-04-21T01:22:48.947546Z"
    }
   },
   "outputs": [
    {
     "ename": "ValueError",
     "evalue": "operands could not be broadcast together with shapes (10304,) (30,300) ",
     "output_type": "error",
     "traceback": [
      "\u001b[0;31m---------------------------------------------------------------------------\u001b[0m",
      "\u001b[0;31mValueError\u001b[0m                                Traceback (most recent call last)",
      "\u001b[0;32m<ipython-input-31-892edb9b758f>\u001b[0m in \u001b[0;36m<module>\u001b[0;34m\u001b[0m\n\u001b[1;32m     13\u001b[0m \u001b[0mX_test_pca\u001b[0m \u001b[0;34m=\u001b[0m \u001b[0;34m[\u001b[0m\u001b[0;34m]\u001b[0m\u001b[0;34m\u001b[0m\u001b[0;34m\u001b[0m\u001b[0m\n\u001b[1;32m     14\u001b[0m \u001b[0;32mfor\u001b[0m \u001b[0mimg\u001b[0m \u001b[0;32min\u001b[0m \u001b[0mX_test\u001b[0m\u001b[0;34m:\u001b[0m\u001b[0;34m\u001b[0m\u001b[0;34m\u001b[0m\u001b[0m\n\u001b[0;32m---> 15\u001b[0;31m     \u001b[0mX_test_pca\u001b[0m\u001b[0;34m.\u001b[0m\u001b[0mappend\u001b[0m\u001b[0;34m(\u001b[0m\u001b[0mimg\u001b[0m \u001b[0;34m**\u001b[0m \u001b[0mnp\u001b[0m\u001b[0;34m.\u001b[0m\u001b[0masarray\u001b[0m\u001b[0;34m(\u001b[0m\u001b[0me\u001b[0m\u001b[0;34m)\u001b[0m\u001b[0;34m)\u001b[0m\u001b[0;34m\u001b[0m\u001b[0;34m\u001b[0m\u001b[0m\n\u001b[0m\u001b[1;32m     16\u001b[0m \u001b[0;34m\u001b[0m\u001b[0m\n\u001b[1;32m     17\u001b[0m \u001b[0;31m#reconstruct training\u001b[0m\u001b[0;34m\u001b[0m\u001b[0;34m\u001b[0m\u001b[0;34m\u001b[0m\u001b[0m\n",
      "\u001b[0;31mValueError\u001b[0m: operands could not be broadcast together with shapes (10304,) (30,300) "
     ]
    }
   ],
   "source": [
    "m = .1\n",
    "e = []\n",
    "for i in range(int(m*len(w))):\n",
    "    e.append(v[i])\n",
    "r = []\n",
    "\n",
    "#build atoms\n",
    "for img in X_train:\n",
    "    r.append(np.asarray(img)[0:int(m*len(w))].reshape(30,1) ** np.asarray(e))\n",
    "\n",
    "\n",
    "#reconstruct testing\n",
    "X_test_pca = []\n",
    "for img in X_test:\n",
    "    X_test_pca.append(np.asarray(img)[0:int(m*len(w))].reshape(30,1) ** np.asarray(e))\n",
    "\n",
    "#reconstruct training\n",
    "X_train_pca = []\n",
    "for img in r:\n",
    "    X_train_pca.append(img ** np.asarray(e))\n",
    "\n",
    "from sklearn.neighbors import KNeighborsClassifier\n",
    "neigh = KNeighborsClassifier(n_neighbors=3)\n",
    "neigh.fit(r, X_test) \n",
    "\n",
    "predictions = neigh.predict(X_test_pca)\n",
    "print(classification_report(y_test, predictions))\n",
    "\n",
    "\n",
    "\n",
    "\n",
    "\n",
    "    "
   ]
  },
  {
   "cell_type": "code",
   "execution_count": null,
   "metadata": {},
   "outputs": [],
   "source": []
  }
 ],
 "metadata": {
  "kernelspec": {
   "display_name": "Python 3",
   "language": "python",
   "name": "python3"
  }
 },
 "nbformat": 4,
 "nbformat_minor": 2
}
